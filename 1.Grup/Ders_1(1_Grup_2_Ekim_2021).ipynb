{
  "nbformat": 4,
  "nbformat_minor": 0,
  "metadata": {
    "colab": {
      "name": "Ders-1(1.Grup 2.Ekim.2021).ipynb",
      "provenance": [],
      "collapsed_sections": []
    },
    "kernelspec": {
      "name": "python3",
      "display_name": "Python 3"
    },
    "language_info": {
      "name": "python"
    }
  },
  "cells": [
    {
      "cell_type": "code",
      "metadata": {
        "id": "C66WncjBsWv1"
      },
      "source": [
        "#Yorum satırı...\n",
        "#Kolay bir yazılım dili...\n"
      ],
      "execution_count": null,
      "outputs": []
    },
    {
      "cell_type": "markdown",
      "metadata": {
        "id": "Atn_oyR7tk0n"
      },
      "source": [
        "**1.Ders: Veri Tipleri**"
      ]
    },
    {
      "cell_type": "code",
      "metadata": {
        "id": "GwSCPZPVtnHr"
      },
      "source": [
        "#sayı veri tipleri: int(tam sayılar) ve float(ondalık sayılar)"
      ],
      "execution_count": null,
      "outputs": []
    },
    {
      "cell_type": "code",
      "metadata": {
        "colab": {
          "base_uri": "https://localhost:8080/"
        },
        "id": "5TeQ6OCfty82",
        "outputId": "efac2366-2ae3-4b7f-bc3f-1d2096ad93ca"
      },
      "source": [
        "3+4"
      ],
      "execution_count": 1,
      "outputs": [
        {
          "output_type": "execute_result",
          "data": {
            "text/plain": [
              "7"
            ]
          },
          "metadata": {},
          "execution_count": 1
        }
      ]
    },
    {
      "cell_type": "code",
      "metadata": {
        "colab": {
          "base_uri": "https://localhost:8080/"
        },
        "id": "VVh2-q1gt-Xk",
        "outputId": "1b9007e7-4590-499f-edda-2577e8ce9f15"
      },
      "source": [
        "76*56"
      ],
      "execution_count": 2,
      "outputs": [
        {
          "output_type": "execute_result",
          "data": {
            "text/plain": [
              "4256"
            ]
          },
          "metadata": {},
          "execution_count": 2
        }
      ]
    },
    {
      "cell_type": "code",
      "metadata": {
        "colab": {
          "base_uri": "https://localhost:8080/"
        },
        "id": "IxrvwvAMuARs",
        "outputId": "997d54f4-3644-443d-851e-62dfab0260f7"
      },
      "source": [
        "50/2"
      ],
      "execution_count": 4,
      "outputs": [
        {
          "output_type": "execute_result",
          "data": {
            "text/plain": [
              "25.0"
            ]
          },
          "metadata": {},
          "execution_count": 4
        }
      ]
    },
    {
      "cell_type": "code",
      "metadata": {
        "colab": {
          "base_uri": "https://localhost:8080/"
        },
        "id": "cHuHlcRTulyg",
        "outputId": "0414a86c-d596-453a-83e8-422e12b27a97"
      },
      "source": [
        "4567654567654567654*5678765678765"
      ],
      "execution_count": 5,
      "outputs": [
        {
          "output_type": "execute_result",
          "data": {
            "text/plain": [
              "25938639991250943497719923667310"
            ]
          },
          "metadata": {},
          "execution_count": 5
        }
      ]
    },
    {
      "cell_type": "code",
      "metadata": {
        "id": "g9w5Qg_Muq3M"
      },
      "source": [
        "#Değişken...veri türlerinde atama yapmak için kullanılan tür...\n"
      ],
      "execution_count": null,
      "outputs": []
    },
    {
      "cell_type": "code",
      "metadata": {
        "colab": {
          "base_uri": "https://localhost:8080/"
        },
        "id": "XW4heAK6vFtk",
        "outputId": "9d75d201-97c0-42a1-f5f9-a58e551ab1fd"
      },
      "source": [
        "a = 67\n",
        "b = 8\n",
        "c = a+b\n",
        "c"
      ],
      "execution_count": 9,
      "outputs": [
        {
          "output_type": "execute_result",
          "data": {
            "text/plain": [
              "75"
            ]
          },
          "metadata": {},
          "execution_count": 9
        }
      ]
    },
    {
      "cell_type": "code",
      "metadata": {
        "colab": {
          "base_uri": "https://localhost:8080/"
        },
        "id": "5Yj3CkUmvUzv",
        "outputId": "dd2df60e-798f-4ee2-d4b6-c1156f01a3d1"
      },
      "source": [
        "a = 10\n",
        "b = 78\n",
        "toplam = a+b\n",
        "toplam"
      ],
      "execution_count": 10,
      "outputs": [
        {
          "output_type": "execute_result",
          "data": {
            "text/plain": [
              "88"
            ]
          },
          "metadata": {},
          "execution_count": 10
        }
      ]
    },
    {
      "cell_type": "code",
      "metadata": {
        "colab": {
          "base_uri": "https://localhost:8080/"
        },
        "id": "AMAheeeFvmf3",
        "outputId": "68cea838-3264-4af5-a636-e934623d6964"
      },
      "source": [
        "a = 8\n",
        "b = 45\n",
        "carpim = a*b\n",
        "carpim"
      ],
      "execution_count": 11,
      "outputs": [
        {
          "output_type": "execute_result",
          "data": {
            "text/plain": [
              "360"
            ]
          },
          "metadata": {},
          "execution_count": 11
        }
      ]
    },
    {
      "cell_type": "code",
      "metadata": {
        "id": "b0vDkwgUv0WT"
      },
      "source": [
        "#Karakter veri tipi...String...yazı-text...\"\"  içine yazılır. ya da  '' içine yazılır"
      ],
      "execution_count": null,
      "outputs": []
    },
    {
      "cell_type": "code",
      "metadata": {
        "colab": {
          "base_uri": "https://localhost:8080/",
          "height": 35
        },
        "id": "tihtcbRsv4kr",
        "outputId": "b66ee26c-2323-4d03-9ce7-51896295917c"
      },
      "source": [
        "\"veysel\""
      ],
      "execution_count": 13,
      "outputs": [
        {
          "output_type": "execute_result",
          "data": {
            "application/vnd.google.colaboratory.intrinsic+json": {
              "type": "string"
            },
            "text/plain": [
              "'veysel'"
            ]
          },
          "metadata": {},
          "execution_count": 13
        }
      ]
    },
    {
      "cell_type": "code",
      "metadata": {
        "colab": {
          "base_uri": "https://localhost:8080/",
          "height": 35
        },
        "id": "JJ9VDvuhwF_S",
        "outputId": "2a94934b-4d8d-49ee-9dd9-0f16b4b62751"
      },
      "source": [
        "'Ebrar'"
      ],
      "execution_count": 14,
      "outputs": [
        {
          "output_type": "execute_result",
          "data": {
            "application/vnd.google.colaboratory.intrinsic+json": {
              "type": "string"
            },
            "text/plain": [
              "'Ebrar'"
            ]
          },
          "metadata": {},
          "execution_count": 14
        }
      ]
    },
    {
      "cell_type": "code",
      "metadata": {
        "colab": {
          "base_uri": "https://localhost:8080/",
          "height": 35
        },
        "id": "Gbb43ROswJtz",
        "outputId": "e5be1cc8-9aef-44aa-b0ea-2c3a799a3228"
      },
      "source": [
        "ad = \"Ömer Faruk\"\n",
        "ad"
      ],
      "execution_count": 16,
      "outputs": [
        {
          "output_type": "execute_result",
          "data": {
            "application/vnd.google.colaboratory.intrinsic+json": {
              "type": "string"
            },
            "text/plain": [
              "'Ömer Faruk'"
            ]
          },
          "metadata": {},
          "execution_count": 16
        }
      ]
    },
    {
      "cell_type": "code",
      "metadata": {
        "colab": {
          "base_uri": "https://localhost:8080/",
          "height": 35
        },
        "id": "IKFFyAQjwV3E",
        "outputId": "e435b92d-f6c7-417c-88ed-8e95b235b2ac"
      },
      "source": [
        "ad = \"Ozan\"\n",
        "soyad = \" Koç\"\n",
        "\n",
        "ad+ soyad"
      ],
      "execution_count": 20,
      "outputs": [
        {
          "output_type": "execute_result",
          "data": {
            "application/vnd.google.colaboratory.intrinsic+json": {
              "type": "string"
            },
            "text/plain": [
              "'Ozan Koç'"
            ]
          },
          "metadata": {},
          "execution_count": 20
        }
      ]
    },
    {
      "cell_type": "code",
      "metadata": {
        "id": "_PCCuKeUwyK1"
      },
      "source": [
        "#print fonksiyonu..."
      ],
      "execution_count": null,
      "outputs": []
    },
    {
      "cell_type": "code",
      "metadata": {
        "colab": {
          "base_uri": "https://localhost:8080/"
        },
        "id": "WNCzh_V0w8wr",
        "outputId": "4af29f48-79fb-499d-d8ec-d527da4b4b70"
      },
      "source": [
        "print(\"Merhaba Argem\")"
      ],
      "execution_count": 21,
      "outputs": [
        {
          "output_type": "stream",
          "name": "stdout",
          "text": [
            "Merhaba Argem\n"
          ]
        }
      ]
    },
    {
      "cell_type": "code",
      "metadata": {
        "colab": {
          "base_uri": "https://localhost:8080/"
        },
        "id": "MSjuoHkxxLA-",
        "outputId": "b47bfe18-8d0c-49c6-a08f-73fe12bd50ef"
      },
      "source": [
        "print(\"4+5\")"
      ],
      "execution_count": 23,
      "outputs": [
        {
          "output_type": "stream",
          "name": "stdout",
          "text": [
            "4+5\n"
          ]
        }
      ]
    },
    {
      "cell_type": "code",
      "metadata": {
        "colab": {
          "base_uri": "https://localhost:8080/"
        },
        "id": "yKTIJ8mZxTbr",
        "outputId": "41792d5a-28eb-418a-bd62-44c3cda3bceb"
      },
      "source": [
        "print(4+5)"
      ],
      "execution_count": 24,
      "outputs": [
        {
          "output_type": "stream",
          "name": "stdout",
          "text": [
            "9\n"
          ]
        }
      ]
    },
    {
      "cell_type": "code",
      "metadata": {
        "colab": {
          "base_uri": "https://localhost:8080/"
        },
        "id": "QHO9tPHNxeR2",
        "outputId": "1ee66d9b-0ff5-4aea-c208-c1735bb79f51"
      },
      "source": [
        "ad = \"Ozan\"\n",
        "soyad = \"Koç\"\n",
        "yas= 11\n",
        "print(ad,soyad,yas)"
      ],
      "execution_count": 28,
      "outputs": [
        {
          "output_type": "stream",
          "name": "stdout",
          "text": [
            "Ozan Koç 11\n"
          ]
        }
      ]
    },
    {
      "cell_type": "code",
      "metadata": {
        "colab": {
          "base_uri": "https://localhost:8080/"
        },
        "id": "jZseYtnzxuyZ",
        "outputId": "18ef98de-4c93-4454-b376-b9329e7e8bf2"
      },
      "source": [
        "ad = \"Ozan\"\n",
        "soyad = \"Koç\"\n",
        "yas= 11\n",
        "print(\"Benim adım:\" , ad, \"Soyadım:\",soyad, \"Yaşım:\", yas)"
      ],
      "execution_count": 32,
      "outputs": [
        {
          "output_type": "stream",
          "name": "stdout",
          "text": [
            "Benim adım: Ozan Soyadım: Koç Yaşım: 11\n"
          ]
        }
      ]
    },
    {
      "cell_type": "code",
      "metadata": {
        "id": "bxQE0tXIyJZp"
      },
      "source": [
        "#Matematiksel operatörler\n",
        "#+,*,-,/,//, **, %:kalan"
      ],
      "execution_count": null,
      "outputs": []
    },
    {
      "cell_type": "code",
      "metadata": {
        "colab": {
          "base_uri": "https://localhost:8080/"
        },
        "id": "Py0FRPnByRZs",
        "outputId": "c5fb2577-0b28-441b-9a9b-21119741cfa4"
      },
      "source": [
        "45//4"
      ],
      "execution_count": 34,
      "outputs": [
        {
          "output_type": "execute_result",
          "data": {
            "text/plain": [
              "11"
            ]
          },
          "metadata": {},
          "execution_count": 34
        }
      ]
    },
    {
      "cell_type": "code",
      "metadata": {
        "colab": {
          "base_uri": "https://localhost:8080/"
        },
        "id": "nlXN0dcsyim-",
        "outputId": "f79eed58-b509-487a-a185-7a23d6b8972e"
      },
      "source": [
        "45%4"
      ],
      "execution_count": 35,
      "outputs": [
        {
          "output_type": "execute_result",
          "data": {
            "text/plain": [
              "1"
            ]
          },
          "metadata": {},
          "execution_count": 35
        }
      ]
    },
    {
      "cell_type": "code",
      "metadata": {
        "colab": {
          "base_uri": "https://localhost:8080/"
        },
        "id": "h-l24sGYyqw_",
        "outputId": "fe755a0f-a8cc-44c5-b85a-4988bdddaa18"
      },
      "source": [
        "2**4"
      ],
      "execution_count": 37,
      "outputs": [
        {
          "output_type": "execute_result",
          "data": {
            "text/plain": [
              "16"
            ]
          },
          "metadata": {},
          "execution_count": 37
        }
      ]
    },
    {
      "cell_type": "code",
      "metadata": {
        "colab": {
          "base_uri": "https://localhost:8080/"
        },
        "id": "0c1j6iX6ytzy",
        "outputId": "dea81d7b-71cd-4b19-c896-0b690480300d"
      },
      "source": [
        "67*2"
      ],
      "execution_count": 38,
      "outputs": [
        {
          "output_type": "execute_result",
          "data": {
            "text/plain": [
              "134"
            ]
          },
          "metadata": {},
          "execution_count": 38
        }
      ]
    },
    {
      "cell_type": "code",
      "metadata": {
        "colab": {
          "base_uri": "https://localhost:8080/"
        },
        "id": "xvqG5BSYyyc1",
        "outputId": "c8f5c34f-dbe9-4389-bbb6-1e7306e1917b"
      },
      "source": [
        "#toplama işlemi yapan küçük bir program\n",
        "a = 14\n",
        "b = 35\n",
        "toplam = a+b\n",
        "print(\"Birinci sayı: \", a, \"İkinci Sayı: \", b, \"Toplamları: \", toplam)"
      ],
      "execution_count": 40,
      "outputs": [
        {
          "output_type": "stream",
          "name": "stdout",
          "text": [
            "Birinci sayı:  14 İkinci Sayı:  35 Toplamları:  49\n"
          ]
        }
      ]
    },
    {
      "cell_type": "code",
      "metadata": {
        "id": "hOtiaWctzI-B"
      },
      "source": [
        "#******input() kullanıcıdan veri almak.....********...Dinamik yazılımlar yapmak için gerkelidir...!"
      ],
      "execution_count": null,
      "outputs": []
    },
    {
      "cell_type": "code",
      "metadata": {
        "colab": {
          "base_uri": "https://localhost:8080/"
        },
        "id": "jdHI9x-qzQtt",
        "outputId": "64701e78-f938-4307-8c12-8fdd2f621c64"
      },
      "source": [
        "ad = input(\"Adını yaz: \")\n",
        "\n",
        "print(\"Hoşgeldin:\", ad)"
      ],
      "execution_count": 44,
      "outputs": [
        {
          "output_type": "stream",
          "name": "stdout",
          "text": [
            "Adını yaz: Ebrar\n",
            "Hoşgeldin: Ebrar\n"
          ]
        }
      ]
    },
    {
      "cell_type": "code",
      "metadata": {
        "colab": {
          "base_uri": "https://localhost:8080/"
        },
        "id": "ZEO2btUezsgn",
        "outputId": "8dae8824-f40c-4ab7-c94f-6018867dcf1a"
      },
      "source": [
        "#dinamik toplama işlemi uygulaması\n",
        "\n",
        "a = int(input(\"Birinci sayıyı giriniz: \"))\n",
        "b = int(input(\"İkinci sayıyı giriniz: \"))\n",
        "\n",
        "toplam = a+b\n",
        "\n",
        "print(\"Girdiğin sayılar:\", a,\",\", b,\".Toplamları: \", toplam)"
      ],
      "execution_count": 48,
      "outputs": [
        {
          "output_type": "stream",
          "name": "stdout",
          "text": [
            "Birinci sayıyı giriniz: 34\n",
            "İkinci sayıyı giriniz: 56\n",
            "Girdiğin sayılar: 34 , 56 .Toplamları:  90\n"
          ]
        }
      ]
    }
  ]
}