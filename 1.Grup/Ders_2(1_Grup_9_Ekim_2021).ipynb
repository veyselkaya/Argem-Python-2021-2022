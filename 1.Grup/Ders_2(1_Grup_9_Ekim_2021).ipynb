{
  "nbformat": 4,
  "nbformat_minor": 0,
  "metadata": {
    "colab": {
      "name": "Ders-2(1.Grup 9.Ekim.2021).ipynb",
      "provenance": [],
      "collapsed_sections": []
    },
    "kernelspec": {
      "name": "python3",
      "display_name": "Python 3"
    },
    "language_info": {
      "name": "python"
    }
  },
  "cells": [
    {
      "cell_type": "code",
      "metadata": {
        "id": "7iBTnfIlvaho"
      },
      "source": [
        "##input fornksiyonu....kullanıcıdan değer alır"
      ],
      "execution_count": null,
      "outputs": []
    },
    {
      "cell_type": "code",
      "metadata": {
        "colab": {
          "base_uri": "https://localhost:8080/"
        },
        "id": "zMCvCMlfvj9g",
        "outputId": "10b12439-acb8-4712-cc66-e87ac887d961"
      },
      "source": [
        "ad = input(\"Lütfen adını gir: \")\n",
        "print(\"Hoşgeldin:\", ad)"
      ],
      "execution_count": 9,
      "outputs": [
        {
          "output_type": "stream",
          "name": "stdout",
          "text": [
            "Lütfen adını gir: Tolga\n",
            "Hoşgeldin: Tolga\n"
          ]
        }
      ]
    },
    {
      "cell_type": "code",
      "metadata": {
        "colab": {
          "base_uri": "https://localhost:8080/"
        },
        "id": "idSWJoZRvvgZ",
        "outputId": "9d7d06e5-edd8-43e9-c146-e785e3531585"
      },
      "source": [
        "#kullanıcıdan 2 tane sayı alıp toplama yapan uygulama\n",
        "#kullanıcıdan sayısal değer istenirse int(input(\"......\")) şeklinde yazılır..\n",
        "sayi1 = int(input(\"Birinci sayıyı gir: \"))\n",
        "sayi2 = int(input(\"İkinci sayıyı gir: \"))\n",
        "\n",
        "toplam = sayi1+sayi2\n",
        "\n",
        "print(\"Girdiğin sayılar:\", sayi1, \",\", sayi2, \"Toplamları:\", toplam)"
      ],
      "execution_count": 4,
      "outputs": [
        {
          "output_type": "stream",
          "name": "stdout",
          "text": [
            "Birinci sayıyı gir: 67\n",
            "İkinci sayıyı gir: 56\n",
            "Girdiğin sayılar: 67 , 56 Toplamları: 123\n"
          ]
        }
      ]
    },
    {
      "cell_type": "code",
      "metadata": {
        "colab": {
          "base_uri": "https://localhost:8080/"
        },
        "id": "69uBbbZbv1Is",
        "outputId": "a6cc9019-694f-4546-a68f-8dbeae4ca893"
      },
      "source": [
        "#Karenin alanını ve çevresini hesaplayan program\n",
        "#Alan = a*a, çevre: 4*a\n",
        "#karenin bir kenarı değişkendir...\n",
        "\n",
        "kenar = int(input(\"Alanını bulmak istediğin karenin kenarını metre cinsinden gir: \"))\n",
        "alan = kenar*kenar\n",
        "cevre= 4*kenar\n",
        "\n",
        "print(\"Karenin Kenarı:\", kenar, \"m\")\n",
        "print(\"Karenin Alanı: \", alan, \"m^2\")\n",
        "print(\"Karenin çevresi: \", cevre,\"m\")\n"
      ],
      "execution_count": 8,
      "outputs": [
        {
          "output_type": "stream",
          "name": "stdout",
          "text": [
            "Alanını bulmak istediğin karenin kenarını metre cinsinden gir: 25\n",
            "Karenin Kenarı: 25 m\n",
            "Karenin Alanı:  625 m^2\n",
            "Karenin çevresi:  100 m\n"
          ]
        }
      ]
    },
    {
      "cell_type": "code",
      "metadata": {
        "colab": {
          "base_uri": "https://localhost:8080/"
        },
        "id": "U9UcTjdXy9qz",
        "outputId": "5a8b7c16-87ab-4b19-ad34-d30c6e42658c"
      },
      "source": [
        "#üçgenin alanını veren program...+,-,*,/\n",
        "#(taban*yükseklik)/2\n",
        "#taban ve yükseklik değişken olduğundan kullanıcıdan alınır...\n",
        "\n",
        "taban = int(input(\"Üçgenin tabanını giriniz: \"))\n",
        "yukseklik = int(input(\"Üçgenin yüksekliğini giriniz: \"))\n",
        "\n",
        "alan = (taban*yukseklik)/2\n",
        "\n",
        "print(\"Girdiğin Taban: \", taban)\n",
        "print(\"Girdiğin Yükseklik:\", yukseklik)\n",
        "print(\"Üçgenin alanı: \", alan)"
      ],
      "execution_count": 10,
      "outputs": [
        {
          "output_type": "stream",
          "name": "stdout",
          "text": [
            "Üçgenin tabanını giriniz: 6\n",
            "Üçgenin yüksekliğini giriniz: 8\n",
            "Girdiğin Taban:  6\n",
            "Girdiğin Yükseklik: 8\n",
            "Üçgenin alanı:  24.0\n"
          ]
        }
      ]
    },
    {
      "cell_type": "code",
      "metadata": {
        "id": "qQozTZ380f0j"
      },
      "source": [
        "#print fonksiyonunun özellikleri..\n",
        "#\\n yeni bir satır"
      ],
      "execution_count": null,
      "outputs": []
    },
    {
      "cell_type": "code",
      "metadata": {
        "colab": {
          "base_uri": "https://localhost:8080/"
        },
        "id": "9g72Sgsk0ioq",
        "outputId": "46656b11-2a31-4567-f8d2-4789d1b6ea5b"
      },
      "source": [
        "print(\"Ad: Ebrar Serra Özdilek. \\nSınıf: 6, \\nHobi: Python \")"
      ],
      "execution_count": 13,
      "outputs": [
        {
          "output_type": "stream",
          "name": "stdout",
          "text": [
            "Ad: Ebrar Serra Özdilek. \n",
            "Sınıf: 6, \n",
            "Hobi: Python \n"
          ]
        }
      ]
    },
    {
      "cell_type": "code",
      "metadata": {
        "colab": {
          "base_uri": "https://localhost:8080/"
        },
        "id": "N2RbtZAH0_Sk",
        "outputId": "d1487ef1-d5c4-43e3-89dd-4ad18a08f000"
      },
      "source": [
        "print(\"Ad: Ebrar Serra Özdilek\")\n",
        "print(\"Sınıf: 6\")\n",
        "print(\"Hobi: Python\")"
      ],
      "execution_count": 14,
      "outputs": [
        {
          "output_type": "stream",
          "name": "stdout",
          "text": [
            "Ad: Ebrar Serra Özdilek\n",
            "Sınıf: 6\n",
            "Hobi: Python\n"
          ]
        }
      ]
    },
    {
      "cell_type": "code",
      "metadata": {
        "colab": {
          "base_uri": "https://localhost:8080/"
        },
        "id": "AnUqyUCc1or-",
        "outputId": "3a33103a-8060-4edb-b509-963383d20d88"
      },
      "source": [
        "print(*\"Ravza İrem\")"
      ],
      "execution_count": 15,
      "outputs": [
        {
          "output_type": "stream",
          "name": "stdout",
          "text": [
            "R a v z a   İ r e m\n"
          ]
        }
      ]
    },
    {
      "cell_type": "code",
      "metadata": {
        "colab": {
          "base_uri": "https://localhost:8080/"
        },
        "id": "N9REJvXd1vUq",
        "outputId": "21fb0f8b-09b6-4652-c4b4-e7b817360026"
      },
      "source": [
        "print(*\"TBMM\")"
      ],
      "execution_count": 17,
      "outputs": [
        {
          "output_type": "stream",
          "name": "stdout",
          "text": [
            "T B M M\n"
          ]
        }
      ]
    },
    {
      "cell_type": "code",
      "metadata": {
        "colab": {
          "base_uri": "https://localhost:8080/"
        },
        "id": "MdrPDb_k1zfb",
        "outputId": "fca57b85-0f62-432f-86d4-7288367bdf63"
      },
      "source": [
        "print(*\"TBMM\", sep=\".\")"
      ],
      "execution_count": 20,
      "outputs": [
        {
          "output_type": "stream",
          "name": "stdout",
          "text": [
            "T.B.M.M\n"
          ]
        }
      ]
    },
    {
      "cell_type": "code",
      "metadata": {
        "colab": {
          "base_uri": "https://localhost:8080/"
        },
        "id": "4fP87GK01-qG",
        "outputId": "05a296df-c981-445b-b793-5d4cb50df846"
      },
      "source": [
        "print(*\"123456789\", sep=\"-\")"
      ],
      "execution_count": 24,
      "outputs": [
        {
          "output_type": "stream",
          "name": "stdout",
          "text": [
            "1-2-3-4-5-6-7-8-9\n"
          ]
        }
      ]
    },
    {
      "cell_type": "code",
      "metadata": {
        "id": "I78V7E5s2WYE"
      },
      "source": [
        "#ödev-1: küpün hacmini bulan python programı\n",
        "#ödev-2: kullanıcıdan 3 sayı alıp toplayan program"
      ],
      "execution_count": null,
      "outputs": []
    }
  ]
}