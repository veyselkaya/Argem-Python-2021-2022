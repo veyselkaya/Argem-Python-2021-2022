{
  "nbformat": 4,
  "nbformat_minor": 0,
  "metadata": {
    "colab": {
      "name": "Ders-3(1.Grup 9.Ekim.2021).ipynb",
      "provenance": []
    },
    "kernelspec": {
      "name": "python3",
      "display_name": "Python 3"
    },
    "language_info": {
      "name": "python"
    }
  },
  "cells": [
    {
      "cell_type": "code",
      "metadata": {
        "colab": {
          "base_uri": "https://localhost:8080/"
        },
        "id": "W3ssBU38yF8m",
        "outputId": "875c7ab2-4abd-4c05-bd85-95b0a95380e3"
      },
      "source": [
        "print(\"Merhaba ARGEM\")"
      ],
      "execution_count": null,
      "outputs": [
        {
          "output_type": "stream",
          "name": "stdout",
          "text": [
            "Merhaba ARGEM\n"
          ]
        }
      ]
    },
    {
      "cell_type": "code",
      "metadata": {
        "colab": {
          "base_uri": "https://localhost:8080/"
        },
        "id": "vOXNn2NByfxV",
        "outputId": "bf894bf7-252e-4db6-ceae-d9301c8c2d6d"
      },
      "source": [
        "ad = \"Veysel\"\n",
        "print(ad)"
      ],
      "execution_count": null,
      "outputs": [
        {
          "output_type": "stream",
          "name": "stdout",
          "text": [
            "Veysel\n"
          ]
        }
      ]
    },
    {
      "cell_type": "code",
      "metadata": {
        "colab": {
          "base_uri": "https://localhost:8080/"
        },
        "id": "VUyp1Wh7yk_U",
        "outputId": "291f6c10-9467-4761-f7ee-60fa1c668b91"
      },
      "source": [
        "a = 6\n",
        "b = 5\n",
        "toplam = a+b\n",
        "print(toplam)"
      ],
      "execution_count": null,
      "outputs": [
        {
          "output_type": "stream",
          "name": "stdout",
          "text": [
            "11\n"
          ]
        }
      ]
    },
    {
      "cell_type": "code",
      "metadata": {
        "colab": {
          "base_uri": "https://localhost:8080/"
        },
        "id": "8_-fw077ytoD",
        "outputId": "2547a841-dc88-4704-aca9-5809bc700cc8"
      },
      "source": [
        "print(*\"Ebrar\")"
      ],
      "execution_count": null,
      "outputs": [
        {
          "output_type": "stream",
          "name": "stdout",
          "text": [
            "E b r a r\n"
          ]
        }
      ]
    },
    {
      "cell_type": "code",
      "metadata": {
        "colab": {
          "base_uri": "https://localhost:8080/"
        },
        "id": "m66T4s_cy3yB",
        "outputId": "bc723aea-043c-42aa-b8ad-1793eb3f830f"
      },
      "source": [
        "#tab özelliği"
      ],
      "execution_count": null,
      "outputs": [
        {
          "output_type": "execute_result",
          "data": {
            "text/plain": [
              "30"
            ]
          },
          "metadata": {},
          "execution_count": 5
        }
      ]
    },
    {
      "cell_type": "code",
      "metadata": {
        "colab": {
          "base_uri": "https://localhost:8080/"
        },
        "id": "S-IGKCdVzCbY",
        "outputId": "8abbeb75-db51-4ea6-c271-4941c086a707"
      },
      "source": [
        "print(\"Veysel \\t\\t\\tEbrar \\t\\nTolga\")"
      ],
      "execution_count": null,
      "outputs": [
        {
          "output_type": "stream",
          "name": "stdout",
          "text": [
            "Veysel \t\t\tEbrar \t\n",
            "Tolga\n"
          ]
        }
      ]
    },
    {
      "cell_type": "code",
      "metadata": {
        "colab": {
          "base_uri": "https://localhost:8080/"
        },
        "id": "s9uyp3NszQEN",
        "outputId": "3f74cb69-3f71-474f-e494-9d518d90706b"
      },
      "source": [
        "ad = \"Veysel\"\n",
        "soyad = \"Kaya\"\n",
        "\n",
        "print(ad,soyad)"
      ],
      "execution_count": null,
      "outputs": [
        {
          "output_type": "stream",
          "name": "stdout",
          "text": [
            "Veysel Kaya\n"
          ]
        }
      ]
    },
    {
      "cell_type": "code",
      "metadata": {
        "id": "C-4yHbfizimt"
      },
      "source": [
        "#type() fonksiyonu"
      ],
      "execution_count": null,
      "outputs": []
    },
    {
      "cell_type": "code",
      "metadata": {
        "colab": {
          "base_uri": "https://localhost:8080/"
        },
        "id": "2W0r19rRzldK",
        "outputId": "58269431-3e51-43d5-8bcf-f016dfe6d326"
      },
      "source": [
        "type(\"ebrar\")"
      ],
      "execution_count": null,
      "outputs": [
        {
          "output_type": "execute_result",
          "data": {
            "text/plain": [
              "str"
            ]
          },
          "metadata": {},
          "execution_count": 13
        }
      ]
    },
    {
      "cell_type": "code",
      "metadata": {
        "colab": {
          "base_uri": "https://localhost:8080/"
        },
        "id": "mSz66IUCzqQa",
        "outputId": "2143f3fb-e015-4620-d4f3-3f92766e987b"
      },
      "source": [
        "type(6)"
      ],
      "execution_count": null,
      "outputs": [
        {
          "output_type": "execute_result",
          "data": {
            "text/plain": [
              "int"
            ]
          },
          "metadata": {},
          "execution_count": 14
        }
      ]
    },
    {
      "cell_type": "code",
      "metadata": {
        "colab": {
          "base_uri": "https://localhost:8080/"
        },
        "id": "TOCdxWNZzsvP",
        "outputId": "2558845a-43a8-462c-b2ce-1cc09a4f879f"
      },
      "source": [
        "type(4.6)"
      ],
      "execution_count": null,
      "outputs": [
        {
          "output_type": "execute_result",
          "data": {
            "text/plain": [
              "float"
            ]
          },
          "metadata": {},
          "execution_count": 15
        }
      ]
    },
    {
      "cell_type": "code",
      "metadata": {
        "colab": {
          "base_uri": "https://localhost:8080/"
        },
        "id": "2TKSAROTz0nL",
        "outputId": "54662f4c-855a-4a9d-895f-35524fcd34c0"
      },
      "source": [
        "a=6\n",
        "b=5\n",
        "\n",
        "type(a+b)\n",
        "\n"
      ],
      "execution_count": null,
      "outputs": [
        {
          "output_type": "execute_result",
          "data": {
            "text/plain": [
              "int"
            ]
          },
          "metadata": {},
          "execution_count": 19
        }
      ]
    },
    {
      "cell_type": "code",
      "metadata": {
        "colab": {
          "base_uri": "https://localhost:8080/"
        },
        "id": "x-G0OJWt0I-V",
        "outputId": "ed357d8d-063c-435f-eaea-8a3817cb4917"
      },
      "source": [
        "type(4+3.6)"
      ],
      "execution_count": null,
      "outputs": [
        {
          "output_type": "execute_result",
          "data": {
            "text/plain": [
              "float"
            ]
          },
          "metadata": {},
          "execution_count": 20
        }
      ]
    },
    {
      "cell_type": "code",
      "metadata": {
        "id": "pkybMpEM0Prt"
      },
      "source": [
        "#print() fonksiyonunun bazı özellikleri"
      ],
      "execution_count": null,
      "outputs": []
    },
    {
      "cell_type": "code",
      "metadata": {
        "colab": {
          "base_uri": "https://localhost:8080/"
        },
        "id": "MUS8Elnm0UPP",
        "outputId": "94500c23-57ce-4f10-e285-1d84597f9ac9"
      },
      "source": [
        "ad = \"ebrar serra\"\n",
        "print(ad)"
      ],
      "execution_count": null,
      "outputs": [
        {
          "output_type": "stream",
          "name": "stdout",
          "text": [
            "ebrar serra\n"
          ]
        }
      ]
    },
    {
      "cell_type": "code",
      "metadata": {
        "colab": {
          "base_uri": "https://localhost:8080/"
        },
        "id": "TCTpX9RI0l7i",
        "outputId": "c6909348-0544-4847-8427-fff23adf335b"
      },
      "source": [
        "ad = \"ebrar serra\"\n",
        "print(ad.upper())"
      ],
      "execution_count": null,
      "outputs": [
        {
          "output_type": "stream",
          "name": "stdout",
          "text": [
            "EBRAR SERRA\n"
          ]
        }
      ]
    },
    {
      "cell_type": "code",
      "metadata": {
        "colab": {
          "base_uri": "https://localhost:8080/"
        },
        "id": "poT0v2Ed0rNq",
        "outputId": "6a3fd821-4a0e-4392-da7d-2711c2306f8a"
      },
      "source": [
        "ad = \"ebrar serra\"\n",
        "print(ad.capitalize())"
      ],
      "execution_count": null,
      "outputs": [
        {
          "output_type": "stream",
          "name": "stdout",
          "text": [
            "Ebrar serra\n"
          ]
        }
      ]
    },
    {
      "cell_type": "code",
      "metadata": {
        "colab": {
          "base_uri": "https://localhost:8080/"
        },
        "id": "2yaLQMRQ1HSZ",
        "outputId": "18cdf6a9-47e5-4d21-f01c-192f93c4229e"
      },
      "source": [
        "ad = \"ebrar serra\"\n",
        "yeni= ad.title()\n",
        "print(yeni)\n"
      ],
      "execution_count": null,
      "outputs": [
        {
          "output_type": "stream",
          "name": "stdout",
          "text": [
            "Ebrar Serra\n"
          ]
        }
      ]
    },
    {
      "cell_type": "code",
      "metadata": {
        "colab": {
          "base_uri": "https://localhost:8080/"
        },
        "id": "yNTSdnvi1eHe",
        "outputId": "1fe4e03c-28d9-4ebe-92b0-7dc39751431d"
      },
      "source": [
        "ad = \"eBrAr SERrA\"\n",
        "\n",
        "print(ad.title())"
      ],
      "execution_count": null,
      "outputs": [
        {
          "output_type": "stream",
          "name": "stdout",
          "text": [
            "Ebrar Serra\n"
          ]
        }
      ]
    },
    {
      "cell_type": "code",
      "metadata": {
        "id": "o2C7KThL1uBA"
      },
      "source": [
        "# format özelliği"
      ],
      "execution_count": null,
      "outputs": []
    },
    {
      "cell_type": "code",
      "metadata": {
        "colab": {
          "base_uri": "https://localhost:8080/"
        },
        "id": "usZcjcBM2Nae",
        "outputId": "98d52819-0382-4335-bd06-138d4e8fa1d1"
      },
      "source": [
        "a =5\n",
        "b=6\n",
        "toplam = a+b\n",
        "\n",
        "print(\"A sayısının değeri: {}, B sayısının değeri: {}. Toplamları ise: {}\".format(a,b,toplam))"
      ],
      "execution_count": null,
      "outputs": [
        {
          "output_type": "stream",
          "name": "stdout",
          "text": [
            "A sayısının değeri: 5, B sayısının değeri: 6. Toplamları ise: 11\n"
          ]
        }
      ]
    },
    {
      "cell_type": "code",
      "metadata": {
        "colab": {
          "base_uri": "https://localhost:8080/"
        },
        "id": "R4M1_EKX2hXb",
        "outputId": "0d0bc050-86d6-450a-d11a-210393f916f8"
      },
      "source": [
        "#kullanıcıdan iki sayı alıp toplamını söyşeyen program\n",
        "\n",
        "a = int(input(\"Birinci sayıyı giriniz: \"))\n",
        "b = int(input(\"İkinci sayıyı giriniz: \"))\n",
        "toplam = a+b\n",
        "print(\"Girdiğin sayılar {},{}. \\n\\tToplamları: {} dir.\".format(a,b,toplam))"
      ],
      "execution_count": null,
      "outputs": [
        {
          "output_type": "stream",
          "name": "stdout",
          "text": [
            "Birinci sayıyı giriniz: 21\n",
            "İkinci sayıyı giriniz: 34\n",
            "Girdiğin sayılar 21,34. \n",
            "\tToplamları: 55 dir.\n"
          ]
        }
      ]
    },
    {
      "cell_type": "code",
      "metadata": {
        "colab": {
          "base_uri": "https://localhost:8080/"
        },
        "id": "30TDGebY3LKo",
        "outputId": "d7d2032f-2df8-48e2-b1b4-c0696270db98"
      },
      "source": [
        "a = int(input(\"Birinci sayıyı giriniz: \"))\n",
        "b = int(input(\"İkinci sayıyı giriniz: \"))\n",
        "toplam = a+b\n",
        "print(\"Girdiğin sayılar: \", a,\",\",b, \"Toplamları:\", toplam, \"dir.\")"
      ],
      "execution_count": null,
      "outputs": [
        {
          "output_type": "stream",
          "name": "stdout",
          "text": [
            "Birinci sayıyı giriniz: 34\n",
            "İkinci sayıyı giriniz: 56\n",
            "Girdiğin sayılar:  34 , 56 Toplamları: 90 dir.\n"
          ]
        }
      ]
    },
    {
      "cell_type": "code",
      "metadata": {
        "id": "dGlS9uro3icG"
      },
      "source": [
        "#listeler.... liste = []"
      ],
      "execution_count": null,
      "outputs": []
    },
    {
      "cell_type": "code",
      "metadata": {
        "colab": {
          "base_uri": "https://localhost:8080/"
        },
        "id": "zCtwMLMv3kAb",
        "outputId": "7348c45d-95b8-40ac-a680-c1f0c70387ba"
      },
      "source": [
        "liste = [\"Veysel\", \"Ebrar\", \"Tolga\"]\n",
        "liste"
      ],
      "execution_count": null,
      "outputs": [
        {
          "output_type": "execute_result",
          "data": {
            "text/plain": [
              "['Veysel', 'Ebrar', 'Tolga']"
            ]
          },
          "metadata": {},
          "execution_count": 48
        }
      ]
    },
    {
      "cell_type": "code",
      "metadata": {
        "colab": {
          "base_uri": "https://localhost:8080/"
        },
        "id": "ysJyRIH_32Qs",
        "outputId": "f76bae7d-283f-4a7f-f532-ba61a9242682"
      },
      "source": [
        "meyveler = [\"Elma\", \"Armut\", \"Muz\", \"Kivi\", \"Çilek\"]\n",
        "meyveler"
      ],
      "execution_count": null,
      "outputs": [
        {
          "output_type": "execute_result",
          "data": {
            "text/plain": [
              "['Elma', 'Armut', 'Muz', 'Kivi', 'Çilek']"
            ]
          },
          "metadata": {},
          "execution_count": 49
        }
      ]
    },
    {
      "cell_type": "code",
      "metadata": {
        "colab": {
          "base_uri": "https://localhost:8080/"
        },
        "id": "XSfwVK873-g9",
        "outputId": "81bc448b-db86-42bf-d5f7-c108bcbc0d85"
      },
      "source": [
        "type(meyveler)"
      ],
      "execution_count": null,
      "outputs": [
        {
          "output_type": "execute_result",
          "data": {
            "text/plain": [
              "list"
            ]
          },
          "metadata": {},
          "execution_count": 50
        }
      ]
    },
    {
      "cell_type": "code",
      "metadata": {
        "id": "4kyyRbJ84Mqd"
      },
      "source": [
        "meyveler.append(\"Kiraz\")"
      ],
      "execution_count": null,
      "outputs": []
    },
    {
      "cell_type": "code",
      "metadata": {
        "colab": {
          "base_uri": "https://localhost:8080/"
        },
        "id": "3SEgjrRb4TPy",
        "outputId": "a9b5daea-5cd2-42b7-f97b-622ace75c0b8"
      },
      "source": [
        "meyveler"
      ],
      "execution_count": null,
      "outputs": [
        {
          "output_type": "execute_result",
          "data": {
            "text/plain": [
              "['Elma', 'Armut', 'Muz', 'Kivi', 'Çilek', 'Kiraz']"
            ]
          },
          "metadata": {},
          "execution_count": 52
        }
      ]
    },
    {
      "cell_type": "code",
      "metadata": {
        "id": "aiaJY1br4c-r"
      },
      "source": [
        "meyveler.remove(\"Armut\")"
      ],
      "execution_count": null,
      "outputs": []
    },
    {
      "cell_type": "code",
      "metadata": {
        "colab": {
          "base_uri": "https://localhost:8080/"
        },
        "id": "U8yZOH504h3g",
        "outputId": "ea7cfa76-f1ac-4b1d-e2f4-9ad2170b360a"
      },
      "source": [
        "meyveler"
      ],
      "execution_count": null,
      "outputs": [
        {
          "output_type": "execute_result",
          "data": {
            "text/plain": [
              "['Elma', 'Muz', 'Kivi', 'Çilek', 'Kiraz']"
            ]
          },
          "metadata": {},
          "execution_count": 54
        }
      ]
    },
    {
      "cell_type": "code",
      "metadata": {
        "colab": {
          "base_uri": "https://localhost:8080/",
          "height": 35
        },
        "id": "QDAQ1GjS4nPt",
        "outputId": "56a4717b-5365-425c-a8d7-615dc6ac34af"
      },
      "source": [
        "meyveler[0]"
      ],
      "execution_count": null,
      "outputs": [
        {
          "output_type": "execute_result",
          "data": {
            "application/vnd.google.colaboratory.intrinsic+json": {
              "type": "string"
            },
            "text/plain": [
              "'Elma'"
            ]
          },
          "metadata": {},
          "execution_count": 55
        }
      ]
    },
    {
      "cell_type": "code",
      "metadata": {
        "id": "jV3daxqM4txQ"
      },
      "source": [
        ""
      ],
      "execution_count": null,
      "outputs": []
    },
    {
      "cell_type": "code",
      "metadata": {
        "colab": {
          "base_uri": "https://localhost:8080/",
          "height": 35
        },
        "id": "QzsFHRnp4t7f",
        "outputId": "6bdf5252-ae4b-4053-a1a8-e174534cffa5"
      },
      "source": [
        "meyveler[4]"
      ],
      "execution_count": null,
      "outputs": [
        {
          "output_type": "execute_result",
          "data": {
            "application/vnd.google.colaboratory.intrinsic+json": {
              "type": "string"
            },
            "text/plain": [
              "'Kiraz'"
            ]
          },
          "metadata": {},
          "execution_count": 56
        }
      ]
    },
    {
      "cell_type": "code",
      "metadata": {
        "colab": {
          "base_uri": "https://localhost:8080/"
        },
        "id": "WmmXDjX14yWN",
        "outputId": "fc0a1e4c-42f9-482b-d420-99561ea2042f"
      },
      "source": [
        "meyveler"
      ],
      "execution_count": null,
      "outputs": [
        {
          "output_type": "execute_result",
          "data": {
            "text/plain": [
              "['Elma', 'Muz', 'Kivi', 'Çilek', 'Kiraz']"
            ]
          },
          "metadata": {},
          "execution_count": 57
        }
      ]
    },
    {
      "cell_type": "code",
      "metadata": {
        "colab": {
          "base_uri": "https://localhost:8080/"
        },
        "id": "g1Ylx-jD44ga",
        "outputId": "55d53802-e076-484f-f80b-30bd83832dc9"
      },
      "source": [
        "liste =[[\"Elma\", \"Armut\"], [\"Makarna\", \"Nohut\"], [\"Cif\", \"Domestos\", \"Dov\"], [\"Köfte\",\"Kıyma\", \"Kavurma\"]]\n",
        "\n",
        "print(\"Meyveler:\", liste[0])\n",
        "print(\"Bakliyat: \", liste[1])\n",
        "print(\"Temzilik malzemeleri: \", liste[2])\n",
        "print(\"Et ürünleri:\", liste[3])"
      ],
      "execution_count": null,
      "outputs": [
        {
          "output_type": "stream",
          "name": "stdout",
          "text": [
            "Meyveler: ['Elma', 'Armut']\n",
            "Bakliyat:  ['Makarna', 'Nohut']\n",
            "Temzilik malzemeleri:  ['Cif', 'Domestos', 'Dov']\n",
            "Et ürünleri: ['Köfte', 'Kıyma', 'Kavurma']\n"
          ]
        }
      ]
    },
    {
      "cell_type": "code",
      "metadata": {
        "id": "nCXC5V355n1L"
      },
      "source": [
        "liste[3].remove(\"Kavurma\")"
      ],
      "execution_count": null,
      "outputs": []
    },
    {
      "cell_type": "code",
      "metadata": {
        "colab": {
          "base_uri": "https://localhost:8080/"
        },
        "id": "ceXyrny85vut",
        "outputId": "a85ce35a-ca5e-4990-be62-238dbb68e77f"
      },
      "source": [
        "liste =[[\"Elma\", \"Armut\"], [\"Makarna\", \"Nohut\"], [\"Cif\", \"Domestos\", \"Dov\"], [\"Köfte\",\"Kıyma\", \"Kavurma\"]]\n",
        "\n",
        "liste[3].remove(\"Kavurma\")\n",
        "liste[2].append(\"Çamaşır suyu\")\n",
        "\n",
        "print(\"Meyveler:\", liste[0])\n",
        "print(\"Bakliyat: \", liste[1])\n",
        "print(\"Temzilik malzemeleri: \", liste[2])\n",
        "print(\"Et ürünleri:\", liste[3])"
      ],
      "execution_count": null,
      "outputs": [
        {
          "output_type": "stream",
          "name": "stdout",
          "text": [
            "Meyveler: ['Elma', 'Armut']\n",
            "Bakliyat:  ['Makarna', 'Nohut']\n",
            "Temzilik malzemeleri:  ['Cif', 'Domestos', 'Dov', 'Çamaşır suyu']\n",
            "Et ürünleri: ['Köfte', 'Kıyma']\n"
          ]
        }
      ]
    }
  ]
}