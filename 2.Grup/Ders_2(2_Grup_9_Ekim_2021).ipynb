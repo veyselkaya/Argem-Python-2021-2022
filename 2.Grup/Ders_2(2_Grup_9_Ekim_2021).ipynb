{
  "nbformat": 4,
  "nbformat_minor": 0,
  "metadata": {
    "colab": {
      "name": "Ders-2(2.Grup 9.Ekim.2021).ipynb",
      "provenance": [],
      "collapsed_sections": []
    },
    "kernelspec": {
      "name": "python3",
      "display_name": "Python 3"
    },
    "language_info": {
      "name": "python"
    }
  },
  "cells": [
    {
      "cell_type": "code",
      "metadata": {
        "id": "Y93NNTQ09XOc"
      },
      "source": [
        "#mantıksal operatörler... boolean ... true, false"
      ],
      "execution_count": null,
      "outputs": []
    },
    {
      "cell_type": "code",
      "metadata": {
        "colab": {
          "base_uri": "https://localhost:8080/"
        },
        "id": "K2JlbEe39ntu",
        "outputId": "5d5355ec-d2ac-4ad1-9e55-b462c66bb5be"
      },
      "source": [
        "5>3"
      ],
      "execution_count": 1,
      "outputs": [
        {
          "output_type": "execute_result",
          "data": {
            "text/plain": [
              "True"
            ]
          },
          "metadata": {},
          "execution_count": 1
        }
      ]
    },
    {
      "cell_type": "code",
      "metadata": {
        "colab": {
          "base_uri": "https://localhost:8080/"
        },
        "id": "WZmF2hJI90PB",
        "outputId": "489bef0a-493c-49ed-9c61-af35078e706c"
      },
      "source": [
        "45676545676546765>4567898765435678"
      ],
      "execution_count": 3,
      "outputs": [
        {
          "output_type": "execute_result",
          "data": {
            "text/plain": [
              "True"
            ]
          },
          "metadata": {},
          "execution_count": 3
        }
      ]
    },
    {
      "cell_type": "code",
      "metadata": {
        "colab": {
          "base_uri": "https://localhost:8080/"
        },
        "id": "f7jXLnv298Zw",
        "outputId": "806ef142-9a56-441b-d8b6-a025077b3948"
      },
      "source": [
        "bool(5)"
      ],
      "execution_count": 4,
      "outputs": [
        {
          "output_type": "execute_result",
          "data": {
            "text/plain": [
              "True"
            ]
          },
          "metadata": {},
          "execution_count": 4
        }
      ]
    },
    {
      "cell_type": "code",
      "metadata": {
        "colab": {
          "base_uri": "https://localhost:8080/"
        },
        "id": "_B3gzGKJ-A2g",
        "outputId": "6d1443e2-95ef-4e9e-cd13-b740c56e075d"
      },
      "source": [
        "bool(0)"
      ],
      "execution_count": 5,
      "outputs": [
        {
          "output_type": "execute_result",
          "data": {
            "text/plain": [
              "False"
            ]
          },
          "metadata": {},
          "execution_count": 5
        }
      ]
    },
    {
      "cell_type": "code",
      "metadata": {
        "id": "aZm8TvHw-I4c"
      },
      "source": [
        "#karşılaştırma operatörleri,\n",
        "# <, >, >=, <=, ==, !="
      ],
      "execution_count": null,
      "outputs": []
    },
    {
      "cell_type": "code",
      "metadata": {
        "colab": {
          "base_uri": "https://localhost:8080/"
        },
        "id": "Jb2wJkzW-TGK",
        "outputId": "cbb80de0-f5fa-4930-d3e5-713fdc271d49"
      },
      "source": [
        "5==5"
      ],
      "execution_count": 7,
      "outputs": [
        {
          "output_type": "execute_result",
          "data": {
            "text/plain": [
              "True"
            ]
          },
          "metadata": {},
          "execution_count": 7
        }
      ]
    },
    {
      "cell_type": "code",
      "metadata": {
        "colab": {
          "base_uri": "https://localhost:8080/"
        },
        "id": "FbgKJQ00-Ywj",
        "outputId": "e0bf99e7-8f29-41cf-c8cd-387d6e589d8c"
      },
      "source": [
        "ad = input(\"Adınızı giriniz: \")\n",
        "\n",
        "if ad == \"veysel\":\n",
        "  print(\"Hoşgeldin\")\n",
        "else:\n",
        "  print(\"Üzgünüm davetiyeniz yok\")"
      ],
      "execution_count": 9,
      "outputs": [
        {
          "output_type": "stream",
          "name": "stdout",
          "text": [
            "Adınızı giriniz: veysel\n",
            "Hoşgeldin\n"
          ]
        }
      ]
    },
    {
      "cell_type": "code",
      "metadata": {
        "colab": {
          "base_uri": "https://localhost:8080/"
        },
        "id": "pWcUbcOfAEwS",
        "outputId": "c941b856-23e8-494c-a98e-da3346700ee6"
      },
      "source": [
        "5>=5"
      ],
      "execution_count": 20,
      "outputs": [
        {
          "output_type": "execute_result",
          "data": {
            "text/plain": [
              "True"
            ]
          },
          "metadata": {},
          "execution_count": 20
        }
      ]
    },
    {
      "cell_type": "code",
      "metadata": {
        "colab": {
          "base_uri": "https://localhost:8080/"
        },
        "id": "nqFImq1YAIGV",
        "outputId": "64bacdb1-9cd6-4826-e8f5-352555db1521"
      },
      "source": [
        "6<=8"
      ],
      "execution_count": 21,
      "outputs": [
        {
          "output_type": "execute_result",
          "data": {
            "text/plain": [
              "True"
            ]
          },
          "metadata": {},
          "execution_count": 21
        }
      ]
    },
    {
      "cell_type": "code",
      "metadata": {
        "colab": {
          "base_uri": "https://localhost:8080/"
        },
        "id": "rvvRVf_uAKVL",
        "outputId": "fddade86-7210-4520-92cd-f5eac8eab553"
      },
      "source": [
        "5!=4"
      ],
      "execution_count": 22,
      "outputs": [
        {
          "output_type": "execute_result",
          "data": {
            "text/plain": [
              "True"
            ]
          },
          "metadata": {},
          "execution_count": 22
        }
      ]
    },
    {
      "cell_type": "code",
      "metadata": {
        "colab": {
          "base_uri": "https://localhost:8080/"
        },
        "id": "-HJNpVGAAMHT",
        "outputId": "f1c4abf0-20ae-4214-cebb-ad90223a6391"
      },
      "source": [
        "7==7"
      ],
      "execution_count": 23,
      "outputs": [
        {
          "output_type": "execute_result",
          "data": {
            "text/plain": [
              "True"
            ]
          },
          "metadata": {},
          "execution_count": 23
        }
      ]
    },
    {
      "cell_type": "code",
      "metadata": {
        "colab": {
          "base_uri": "https://localhost:8080/"
        },
        "id": "H-kdRj21AQiI",
        "outputId": "499f9fea-e697-41f8-8d8d-c9aaa7d35b37"
      },
      "source": [
        "\"Efe\" == \"Efe\""
      ],
      "execution_count": 24,
      "outputs": [
        {
          "output_type": "execute_result",
          "data": {
            "text/plain": [
              "True"
            ]
          },
          "metadata": {},
          "execution_count": 24
        }
      ]
    },
    {
      "cell_type": "code",
      "metadata": {
        "id": "dnQZorAHAWLA"
      },
      "source": [
        "#Mantıksal bağlaçlar\n"
      ],
      "execution_count": null,
      "outputs": []
    },
    {
      "cell_type": "code",
      "metadata": {
        "colab": {
          "base_uri": "https://localhost:8080/"
        },
        "id": "orf6ux2cAYk-",
        "outputId": "037a5cf5-36d0-4f13-889a-d54847d24438"
      },
      "source": [
        "#tru and tru-->true. and operatöründe her iki değer de true ise true olur...\n",
        "10>5 and \"Mirza\" == \"Mirza\""
      ],
      "execution_count": 26,
      "outputs": [
        {
          "output_type": "execute_result",
          "data": {
            "text/plain": [
              "True"
            ]
          },
          "metadata": {},
          "execution_count": 26
        }
      ]
    },
    {
      "cell_type": "code",
      "metadata": {
        "colab": {
          "base_uri": "https://localhost:8080/"
        },
        "id": "WF1yVaz4An4c",
        "outputId": "33964c03-2b6e-48eb-9f67-475c3e0e92ef"
      },
      "source": [
        "1>5 and 8>7"
      ],
      "execution_count": 27,
      "outputs": [
        {
          "output_type": "execute_result",
          "data": {
            "text/plain": [
              "False"
            ]
          },
          "metadata": {},
          "execution_count": 27
        }
      ]
    },
    {
      "cell_type": "code",
      "metadata": {
        "colab": {
          "base_uri": "https://localhost:8080/"
        },
        "id": "grRHYXBDAxQw",
        "outputId": "dbd61379-afc5-4db8-8c95-492b93344c81"
      },
      "source": [
        "3>4 and 8>90\n",
        "\n"
      ],
      "execution_count": 29,
      "outputs": [
        {
          "output_type": "execute_result",
          "data": {
            "text/plain": [
              "False"
            ]
          },
          "metadata": {},
          "execution_count": 29
        }
      ]
    },
    {
      "cell_type": "code",
      "metadata": {
        "id": "QvRPqq9-BCNS"
      },
      "source": [
        "#or operratörü... "
      ],
      "execution_count": null,
      "outputs": []
    },
    {
      "cell_type": "code",
      "metadata": {
        "colab": {
          "base_uri": "https://localhost:8080/"
        },
        "id": "gR_LVMzVBGOb",
        "outputId": "327f7a5d-792c-4c0a-f8d5-92d7543b96e7"
      },
      "source": [
        "6>5 or 56<5"
      ],
      "execution_count": 30,
      "outputs": [
        {
          "output_type": "execute_result",
          "data": {
            "text/plain": [
              "True"
            ]
          },
          "metadata": {},
          "execution_count": 30
        }
      ]
    },
    {
      "cell_type": "code",
      "metadata": {
        "colab": {
          "base_uri": "https://localhost:8080/"
        },
        "id": "qPZ-2RLDBKBC",
        "outputId": "40ffe2ed-867a-467b-ed17-be23ece1f449"
      },
      "source": [
        "6==6 or 5>6"
      ],
      "execution_count": 31,
      "outputs": [
        {
          "output_type": "execute_result",
          "data": {
            "text/plain": [
              "True"
            ]
          },
          "metadata": {},
          "execution_count": 31
        }
      ]
    },
    {
      "cell_type": "code",
      "metadata": {
        "colab": {
          "base_uri": "https://localhost:8080/"
        },
        "id": "RTLKqf8WBNAx",
        "outputId": "048da946-d804-487f-9454-3a019578c975"
      },
      "source": [
        "67>87 or \"kedi\" == \"Köpek\""
      ],
      "execution_count": 33,
      "outputs": [
        {
          "output_type": "execute_result",
          "data": {
            "text/plain": [
              "False"
            ]
          },
          "metadata": {},
          "execution_count": 33
        }
      ]
    },
    {
      "cell_type": "code",
      "metadata": {
        "id": "TJDmrxavBWyK"
      },
      "source": [
        "#not operatörü"
      ],
      "execution_count": null,
      "outputs": []
    },
    {
      "cell_type": "code",
      "metadata": {
        "colab": {
          "base_uri": "https://localhost:8080/"
        },
        "id": "1w4gVvC1BY1K",
        "outputId": "934897ab-5e3c-4ba0-ed92-75990a95732f"
      },
      "source": [
        "5==5"
      ],
      "execution_count": 34,
      "outputs": [
        {
          "output_type": "execute_result",
          "data": {
            "text/plain": [
              "True"
            ]
          },
          "metadata": {},
          "execution_count": 34
        }
      ]
    },
    {
      "cell_type": "code",
      "metadata": {
        "colab": {
          "base_uri": "https://localhost:8080/"
        },
        "id": "_-GxXsW2BbTx",
        "outputId": "d69ac269-44be-48d1-ca4f-fc61a3b553ab"
      },
      "source": [
        "not 5==5"
      ],
      "execution_count": 35,
      "outputs": [
        {
          "output_type": "execute_result",
          "data": {
            "text/plain": [
              "False"
            ]
          },
          "metadata": {},
          "execution_count": 35
        }
      ]
    },
    {
      "cell_type": "code",
      "metadata": {
        "colab": {
          "base_uri": "https://localhost:8080/"
        },
        "id": "P5xMA8vlBl0p",
        "outputId": "15a2d2e9-7a9f-4933-fb63-ad0b022129d5"
      },
      "source": [
        "not ((1.3>1.2 and 6>7) or (3>4 and 90>67))"
      ],
      "execution_count": 37,
      "outputs": [
        {
          "output_type": "execute_result",
          "data": {
            "text/plain": [
              "True"
            ]
          },
          "metadata": {},
          "execution_count": 37
        }
      ]
    },
    {
      "cell_type": "code",
      "metadata": {
        "colab": {
          "base_uri": "https://localhost:8080/"
        },
        "id": "DdWSBfQ2B69N",
        "outputId": "0ef369bf-1aa4-44e1-ae92-034c2ca7e21e"
      },
      "source": [
        "False or False"
      ],
      "execution_count": 38,
      "outputs": [
        {
          "output_type": "execute_result",
          "data": {
            "text/plain": [
              "False"
            ]
          },
          "metadata": {},
          "execution_count": 38
        }
      ]
    },
    {
      "cell_type": "code",
      "metadata": {
        "colab": {
          "base_uri": "https://localhost:8080/"
        },
        "id": "NGUrKr5QCE-J",
        "outputId": "b7b88d5c-2f18-4d40-8ec9-3481e7cae710"
      },
      "source": [
        "True or False"
      ],
      "execution_count": 39,
      "outputs": [
        {
          "output_type": "execute_result",
          "data": {
            "text/plain": [
              "True"
            ]
          },
          "metadata": {},
          "execution_count": 39
        }
      ]
    },
    {
      "cell_type": "code",
      "metadata": {
        "colab": {
          "base_uri": "https://localhost:8080/"
        },
        "id": "D9mqMr3ZCMpT",
        "outputId": "fc880c9d-d028-411e-b0a0-036ed15b7da9"
      },
      "source": [
        "\"Veysel\" > \"Egemen\""
      ],
      "execution_count": 43,
      "outputs": [
        {
          "output_type": "execute_result",
          "data": {
            "text/plain": [
              "True"
            ]
          },
          "metadata": {},
          "execution_count": 43
        }
      ]
    },
    {
      "cell_type": "code",
      "metadata": {
        "colab": {
          "base_uri": "https://localhost:8080/"
        },
        "id": "2X1dqvxSCbdb",
        "outputId": "15d0ba0e-2aa9-4439-f5e3-ee903a26172b"
      },
      "source": [
        "\"Araba\"<\"Zula\""
      ],
      "execution_count": 44,
      "outputs": [
        {
          "output_type": "execute_result",
          "data": {
            "text/plain": [
              "True"
            ]
          },
          "metadata": {},
          "execution_count": 44
        }
      ]
    },
    {
      "cell_type": "code",
      "metadata": {
        "id": "n9I_YZ2_CsNt"
      },
      "source": [
        "#Koşul duurmları\n",
        "#if, elif, else"
      ],
      "execution_count": null,
      "outputs": []
    },
    {
      "cell_type": "code",
      "metadata": {
        "colab": {
          "base_uri": "https://localhost:8080/"
        },
        "id": "bK1ZOORxCyDk",
        "outputId": "57bf053b-aa4c-4f81-ea90-bf2864c57616"
      },
      "source": [
        "puan = int(input(\"Puanınızı giriniz: \"))\n",
        "\n",
        "if puan<=100 and  puan>=90:\n",
        "  print(\"Taktir aldın\")\n",
        "elif puan<90 and puan>=80:\n",
        "  print(\"Teşekkür aldın\")\n",
        "elif puan<80 and puan>=60:\n",
        "  print(\"başarı belgesi aldın\")\n",
        "else:\n",
        "  print(\"çikolata aldın\")\n",
        "\n"
      ],
      "execution_count": 53,
      "outputs": [
        {
          "output_type": "stream",
          "name": "stdout",
          "text": [
            "Puanınızı giriniz: -78\n",
            "çikolata aldın\n"
          ]
        }
      ]
    },
    {
      "cell_type": "code",
      "metadata": {
        "colab": {
          "base_uri": "https://localhost:8080/"
        },
        "id": "ziy0IvWzEIyi",
        "outputId": "dfa1b21b-9b35-4c1f-83ed-6b3a25af5e82"
      },
      "source": [
        "sifre = \"kedi\"\n",
        "\n",
        "if sifre ==\"kedi\":\n",
        "  print(\"şifreniz doğru\")\n",
        "else:\n",
        "  print(\"şifreniz hatalı\")\n",
        "\n",
        "  \n",
        "\n",
        "\n"
      ],
      "execution_count": 56,
      "outputs": [
        {
          "output_type": "stream",
          "name": "stdout",
          "text": [
            "şifreniz doğru\n"
          ]
        }
      ]
    },
    {
      "cell_type": "code",
      "metadata": {
        "id": "LUAM8c17EnXL"
      },
      "source": [
        "#ödev: if elif ve else kullanarak 4 işlem yapan ve kullanıcıdan 2 tane sayı alıp sonucu ekrana yazdıran minik bir hesap makinası yapınız....!"
      ],
      "execution_count": null,
      "outputs": []
    }
  ]
}